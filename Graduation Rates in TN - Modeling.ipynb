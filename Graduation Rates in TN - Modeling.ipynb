{
 "cells": [
  {
   "cell_type": "code",
   "execution_count": 35,
   "metadata": {},
   "outputs": [],
   "source": [
    "import pandas as pd\n",
    "import numpy as np\n",
    "import pickle\n",
    "from sklearn.linear_model import LinearRegression, Ridge, Lasso\n",
    "from sklearn.ensemble import RandomForestRegressor\n",
    "from sklearn.model_selection import train_test_split, GridSearchCV, RandomizedSearchCV, cross_val_score\n",
    "from sklearn.metrics import mean_squared_error, r2_score, mean_absolute_error"
   ]
  },
  {
   "cell_type": "code",
   "execution_count": 14,
   "metadata": {},
   "outputs": [],
   "source": [
    "X_train = pd.read_csv('./Data/X_train_scaled.csv')\n",
    "y_train = pd.read_csv('./Data/y_train.csv')\n",
    "X_test = pd.read_csv('./Data/X_test_scaled.csv')\n",
    "y_test = pd.read_csv('./Data/y_test.csv')"
   ]
  },
  {
   "cell_type": "markdown",
   "metadata": {},
   "source": [
    "## Dictionary to store results"
   ]
  },
  {
   "cell_type": "code",
   "execution_count": 15,
   "metadata": {},
   "outputs": [],
   "source": [
    "evals = dict()"
   ]
  },
  {
   "cell_type": "markdown",
   "metadata": {},
   "source": [
    "##  Multiple Linear Regression (OLS)"
   ]
  },
  {
   "cell_type": "code",
   "execution_count": 22,
   "metadata": {},
   "outputs": [
    {
     "name": "stdout",
     "output_type": "stream",
     "text": [
      "mean MAE: -3.55E-02\n"
     ]
    }
   ],
   "source": [
    "MLR_model = LinearRegression()\n",
    "scores= cross_val_score(MLR_model, X_train, y_train, cv=5, scoring='neg_mean_absolute_error', n_jobs=-1)\n",
    "mean_mae = np.mean(scores)\n",
    "print(\"mean MAE: %.2E\" %(mean_mae))\n",
    "\n",
    "evals['MLR'] =  mean_mae"
   ]
  },
  {
   "cell_type": "markdown",
   "metadata": {},
   "source": [
    "## Ridge without hyperparameter tuning"
   ]
  },
  {
   "cell_type": "code",
   "execution_count": 21,
   "metadata": {},
   "outputs": [
    {
     "name": "stdout",
     "output_type": "stream",
     "text": [
      "-0.035205563469938195\n"
     ]
    }
   ],
   "source": [
    "Ridge_model = Ridge(alpha=1)\n",
    "scores= cross_val_score(Ridge_model, X_train, y_train, cv=5, scoring='neg_mean_absolute_error', n_jobs=-1)\n",
    "mean_mae = np.mean(scores)\n",
    "print(mean_mae)"
   ]
  },
  {
   "cell_type": "markdown",
   "metadata": {},
   "source": [
    "## Ridge with hyperparameter tuning"
   ]
  },
  {
   "cell_type": "code",
   "execution_count": 23,
   "metadata": {},
   "outputs": [
    {
     "name": "stdout",
     "output_type": "stream",
     "text": [
      "MAE: -3.41E-02\n",
      "Config: {'alpha': 49.900000000000006}\n"
     ]
    }
   ],
   "source": [
    "Ridge_model = Ridge()\n",
    "grid = dict()\n",
    "grid['alpha'] = np.arange(0,50,.1)\n",
    "search = GridSearchCV(Ridge_model, grid, scoring='neg_mean_absolute_error', cv=5, n_jobs=-1)\n",
    "results = search.fit(X_train, y_train)\n",
    "print('MAE: %.2E' % results.best_score_)\n",
    "print('Config: %s' % results.best_params_)\n",
    "\n",
    "evals['Ridge'] = [results.best_score_,results.best_params_]"
   ]
  },
  {
   "cell_type": "markdown",
   "metadata": {},
   "source": [
    "## Lasso without hyperparameter tuning"
   ]
  },
  {
   "cell_type": "code",
   "execution_count": 25,
   "metadata": {},
   "outputs": [
    {
     "name": "stdout",
     "output_type": "stream",
     "text": [
      "mean MAE: -4.67E-02\n"
     ]
    }
   ],
   "source": [
    "lasso_model = Lasso(alpha=1)\n",
    "scores= cross_val_score(lasso_model, X_train, y_train, cv=5, scoring='neg_mean_absolute_error', n_jobs=-1)\n",
    "mean_mae = np.mean(scores)\n",
    "print(\"mean MAE: %.2E\" %(mean_mae))"
   ]
  },
  {
   "cell_type": "markdown",
   "metadata": {},
   "source": [
    " ## Lasso with hyperparameter tuning"
   ]
  },
  {
   "cell_type": "code",
   "execution_count": 26,
   "metadata": {},
   "outputs": [
    {
     "name": "stdout",
     "output_type": "stream",
     "text": [
      "MAE: -3.53E-02\n",
      "Config: {'alpha': 0.0001}\n"
     ]
    }
   ],
   "source": [
    "lasso_model = Lasso()\n",
    "grid = dict()\n",
    "grid['alpha'] = np.arange(.0001,50,.1)\n",
    "search = GridSearchCV(lasso_model, grid, scoring='neg_mean_absolute_error', cv=5, n_jobs=-1)\n",
    "results = search.fit(X_train, y_train)\n",
    "print('MAE: %.2E' % results.best_score_)\n",
    "print('Config: %s' % results.best_params_)\n",
    "\n",
    "evals['Lasso'] = [results.best_score_,results.best_params_]"
   ]
  },
  {
   "cell_type": "markdown",
   "metadata": {},
   "source": [
    "## Random forest without hyperparameter tuning"
   ]
  },
  {
   "cell_type": "code",
   "execution_count": 27,
   "metadata": {},
   "outputs": [
    {
     "name": "stdout",
     "output_type": "stream",
     "text": [
      "mean MAE: -3.59E-02\n"
     ]
    }
   ],
   "source": [
    "RF_model = RandomForestRegressor()\n",
    "scores= cross_val_score(RF_model, X_train, y_train, cv=5, scoring='neg_mean_absolute_error', n_jobs=-1)\n",
    "mean_mae = np.mean(scores)\n",
    "print(\"mean MAE: %.2E\" %(mean_mae))"
   ]
  },
  {
   "cell_type": "markdown",
   "metadata": {},
   "source": [
    "## Random forest with hyperparameter tuning"
   ]
  },
  {
   "cell_type": "code",
   "execution_count": 28,
   "metadata": {},
   "outputs": [
    {
     "name": "stderr",
     "output_type": "stream",
     "text": [
      "c:\\python38\\lib\\site-packages\\sklearn\\model_selection\\_search.py:765: DataConversionWarning: A column-vector y was passed when a 1d array was expected. Please change the shape of y to (n_samples,), for example using ravel().\n",
      "  self.best_estimator_.fit(X, y, **fit_params)\n"
     ]
    },
    {
     "name": "stdout",
     "output_type": "stream",
     "text": [
      "MAE: -3.57E-02\n",
      "Config: {'n_estimators': 1000, 'min_samples_split': 5, 'min_samples_leaf': 2, 'max_features': 'sqrt', 'max_depth': 56, 'bootstrap': True}\n"
     ]
    }
   ],
   "source": [
    "RF_model = RandomForestRegressor()\n",
    "grid = {\n",
    "    'bootstrap': [True,False],\n",
    "    'max_depth': [int(x) for x in np.linspace(50, 110, num = 11)] + [None],\n",
    "    'max_features': ['auto', 'sqrt'],\n",
    "    'min_samples_leaf': [1, 2, 4],\n",
    "    'min_samples_split': [2, 5, 10],\n",
    "    'n_estimators': [int(x) for x in np.linspace(start = 200, stop = 2000, num = 10)]\n",
    "}\n",
    "search = RandomizedSearchCV(RF_model, grid, n_iter=10,scoring='neg_mean_absolute_error', cv=5, n_jobs=-1)\n",
    "results = search.fit(X_train, y_train)\n",
    "print('MAE: %.2E' % results.best_score_)\n",
    "print('Config: %s' % results.best_params_)\n",
    "\n",
    "evals['RF'] = [results.best_score_,results.best_params_]"
   ]
  },
  {
   "cell_type": "code",
   "execution_count": 29,
   "metadata": {},
   "outputs": [
    {
     "data": {
      "text/plain": [
       "{'MLR': -0.035481637900308075,\n",
       " 'Ridge': [-0.034148234001457334, {'alpha': 49.900000000000006}],\n",
       " 'Lasso': [-0.03534415609805873, {'alpha': 0.0001}],\n",
       " 'RF': [-0.035738679597451695,\n",
       "  {'n_estimators': 1000,\n",
       "   'min_samples_split': 5,\n",
       "   'min_samples_leaf': 2,\n",
       "   'max_features': 'sqrt',\n",
       "   'max_depth': 56,\n",
       "   'bootstrap': True}]}"
      ]
     },
     "execution_count": 29,
     "metadata": {},
     "output_type": "execute_result"
    }
   ],
   "source": [
    "evals"
   ]
  },
  {
   "cell_type": "markdown",
   "metadata": {},
   "source": [
    "Ridge Regressor seems to be the best performing model."
   ]
  },
  {
   "cell_type": "code",
   "execution_count": 38,
   "metadata": {},
   "outputs": [],
   "source": [
    "Ridge_model = Ridge(alpha=evals['Ridge'][1]['alpha'])\n",
    "Ridge_model.fit(X_train, y_train)\n",
    "with open('./Model/Ridge_Regressor.pkl', 'wb') as f:\n",
    "    pickle.dump(Ridge_model, f)"
   ]
  },
  {
   "cell_type": "markdown",
   "metadata": {},
   "source": [
    "## Comparing on test sets"
   ]
  },
  {
   "cell_type": "code",
   "execution_count": 33,
   "metadata": {},
   "outputs": [],
   "source": [
    "MLR_model.fit(X_train, y_train)\n",
    "y_pred = MLR_model.predict(X_test)"
   ]
  },
  {
   "cell_type": "code",
   "execution_count": 36,
   "metadata": {},
   "outputs": [
    {
     "data": {
      "text/plain": [
       "0.02757990070422869"
      ]
     },
     "execution_count": 36,
     "metadata": {},
     "output_type": "execute_result"
    }
   ],
   "source": [
    "mean_absolute_error(y_test, y_pred)"
   ]
  },
  {
   "cell_type": "code",
   "execution_count": 39,
   "metadata": {},
   "outputs": [
    {
     "data": {
      "text/plain": [
       "0.025913450607359296"
      ]
     },
     "execution_count": 39,
     "metadata": {},
     "output_type": "execute_result"
    }
   ],
   "source": [
    "y_pred = Ridge_model.predict(X_test)\n",
    "mean_absolute_error(y_test, y_pred)"
   ]
  },
  {
   "cell_type": "code",
   "execution_count": 42,
   "metadata": {},
   "outputs": [
    {
     "data": {
      "text/plain": [
       "0.02741278377202675"
      ]
     },
     "execution_count": 42,
     "metadata": {},
     "output_type": "execute_result"
    }
   ],
   "source": [
    "lasso_model = Lasso(alpha=evals['Lasso'][1]['alpha'])\n",
    "lasso_model.fit(X_train, y_train)\n",
    "\n",
    "y_pred = lasso_model.predict(X_test)\n",
    "\n",
    "mean_absolute_error(y_test, y_pred)"
   ]
  },
  {
   "cell_type": "code",
   "execution_count": 46,
   "metadata": {},
   "outputs": [],
   "source": [
    "RF_model = RandomForestRegressor(n_estimators = evals['RF'][1]['n_estimators'], \\\n",
    "                   min_samples_split = evals['RF'][1]['min_samples_split'], \\\n",
    "                   min_samples_leaf = evals['RF'][1]['min_samples_leaf'], \\\n",
    "                   max_features = evals['RF'][1]['max_features'], \\\n",
    "                   max_depth = evals['RF'][1]['max_depth'], \\\n",
    "                   bootstrap = evals['RF'][1]['bootstrap'])\n",
    "\n",
    "RF_model.fit(X_train, y_train)\n",
    "\n",
    "y_pred = RF_model.predict(X_test)\n",
    "\n",
    "mean_absolute_error(y_)"
   ]
  },
  {
   "cell_type": "code",
   "execution_count": null,
   "metadata": {},
   "outputs": [],
   "source": []
  }
 ],
 "metadata": {
  "kernelspec": {
   "display_name": "Python 3",
   "language": "python",
   "name": "python3"
  },
  "language_info": {
   "codemirror_mode": {
    "name": "ipython",
    "version": 3
   },
   "file_extension": ".py",
   "mimetype": "text/x-python",
   "name": "python",
   "nbconvert_exporter": "python",
   "pygments_lexer": "ipython3",
   "version": "3.8.2"
  }
 },
 "nbformat": 4,
 "nbformat_minor": 4
}
